{
  "nbformat": 4,
  "nbformat_minor": 0,
  "metadata": {
    "colab": {
      "provenance": []
    },
    "kernelspec": {
      "name": "python3",
      "display_name": "Python 3"
    },
    "language_info": {
      "name": "python"
    }
  },
  "cells": [
    {
      "cell_type": "markdown",
      "source": [
        "# Function Assignment"
      ],
      "metadata": {
        "id": "TJWGApJrGkn9"
      }
    },
    {
      "cell_type": "markdown",
      "source": [
        "1.) What is the difference between a function and a method in Python?\n",
        "\n",
        "-> A function is a block of reusable code defined using def and can exist independently. A method is a function associated with an object and is called using dot notation (e.g., obj.method()), often defined inside a class."
      ],
      "metadata": {
        "id": "DJ23az-sGssd"
      }
    },
    {
      "cell_type": "markdown",
      "source": [
        "2.) Explain the concept of function arguments and parameters in Python ?\n",
        "\n",
        "-> Parameters are variables listed in a function's definition, while arguments are the actual values passed to the function when it is called. Parameters receive the arguments during the function call."
      ],
      "metadata": {
        "id": "jKIucFypG-Lv"
      }
    },
    {
      "cell_type": "markdown",
      "source": [
        "3.) What are the different ways to define and call a function in Python?\n",
        "\n",
        "-> Functions in Python can be defined using def or lambda (for anonymous functions). They can be called by their name with parentheses, passing required arguments:"
      ],
      "metadata": {
        "id": "JM0Q5rOoHJAi"
      }
    },
    {
      "cell_type": "markdown",
      "source": [
        "4.)  What is the purpose of the `return` statement in a Python function?\n",
        "\n",
        "-> The return statement ends a function and sends a value back to the caller. It allows the function to output a result that can be used elsewhere in the program."
      ],
      "metadata": {
        "id": "1jf25tvVHSwu"
      }
    },
    {
      "cell_type": "markdown",
      "source": [
        "5.)  What are iterators in Python and how do they differ from iterables?\n",
        "\n",
        "-> An iterable is an object that can be looped over (like lists, strings), while an iterator is an object with a __next__() method used to get the next item. Iterators are created from iterables using the iter() function."
      ],
      "metadata": {
        "id": "fqDFEGBzHa-O"
      }
    },
    {
      "cell_type": "markdown",
      "source": [
        "6.) Explain the concept of generators in Python and how they are defined ?\n",
        "\n",
        "-> Generators are special functions that yield values one at a time using the yield keyword instead of return. They are defined like regular functions but produce a sequence of values lazily, saving memory."
      ],
      "metadata": {
        "id": "8TyLRNzFHmus"
      }
    },
    {
      "cell_type": "markdown",
      "source": [
        "7.) What are the advantages of using generators over regular functions?\n",
        "\n",
        "-> Generators use less memory as they yield items one at a time, making them ideal for large datasets. They also allow lazy evaluation, improving performance and efficiency."
      ],
      "metadata": {
        "id": "c2Lnf_QMH4Ke"
      }
    },
    {
      "cell_type": "markdown",
      "source": [
        "8.) What is a lambda function in Python and when is it typically used?\n",
        "\n",
        "-> A lambda function is an anonymous, one-line function defined using the lambda keyword. It’s typically used for short, simple operations like in map(), filter(), or sorting."
      ],
      "metadata": {
        "id": "rFNFj9uGIAdp"
      }
    },
    {
      "cell_type": "markdown",
      "source": [
        "9.)  Explain the purpose and usage of the `map()` function in Python ?\n",
        "\n",
        "-> The map() function applies a given function to all items in an iterable and returns a map object (iterator). It's used to transform data without using explicit loops.\n",
        "Example: map(lambda x: x*2, [1, 2, 3]) returns [2, 4, 6]."
      ],
      "metadata": {
        "id": "6hlo175UIIn4"
      }
    },
    {
      "cell_type": "markdown",
      "source": [
        "10.)  What is the difference between `map()`, `reduce()`, and `filter()` functions in Python?\n",
        "\n",
        "-> map() applies a function to every item in an iterable and returns all results.\n",
        "\n",
        "filter() selects items from an iterable that meet a condition (returns True).\n",
        "\n",
        "reduce() (from functools) applies a function cumulatively to reduce the iterable to a single value."
      ],
      "metadata": {
        "id": "RRs7HH78IVjW"
      }
    },
    {
      "cell_type": "markdown",
      "source": [
        "# Coding Assignment"
      ],
      "metadata": {
        "id": "fOhAvtRiIeqp"
      }
    },
    {
      "cell_type": "code",
      "source": [
        "# 1.) Write a Python function that takes a list of numbers as input and returns the sum of all even numbers in\n",
        "# the list.\n",
        "def sum(l):\n",
        "  sum = 0;\n",
        "  for i in l:\n",
        "    if i%2 == 0:\n",
        "      sum += i\n",
        "  return sum\n",
        "li = list(map(int, input(\"Enter elements separated by commas: \").split(',')))\n",
        "ans = sum(li)\n",
        "print(ans)\n",
        "\n"
      ],
      "metadata": {
        "colab": {
          "base_uri": "https://localhost:8080/"
        },
        "id": "lJFNMGlzIjda",
        "outputId": "2f8387a5-5180-405f-946e-b436499d9c66"
      },
      "execution_count": 6,
      "outputs": [
        {
          "output_type": "stream",
          "name": "stdout",
          "text": [
            "Enter elements separated by commas: 1,2,3,4,5,6,7,8\n",
            "20\n"
          ]
        }
      ]
    },
    {
      "cell_type": "code",
      "source": [
        "# 2.) . Create a Python function that accepts a string and returns the reverse of that string\n",
        "def rev_string(s):\n",
        "    return s[::-1]\n",
        "\n",
        "str1 = input(\"Enter a String: \")\n",
        "str2 = rev_string(str1)\n",
        "print(str2)\n"
      ],
      "metadata": {
        "colab": {
          "base_uri": "https://localhost:8080/"
        },
        "id": "TxOIDIvoLjWB",
        "outputId": "35b955b3-e140-4c8c-8ef7-1326bcba0b30"
      },
      "execution_count": 7,
      "outputs": [
        {
          "output_type": "stream",
          "name": "stdout",
          "text": [
            "Enter a String: Vipul\n",
            "lupiV\n"
          ]
        }
      ]
    },
    {
      "cell_type": "code",
      "source": [
        "# 3.)  Implement a Python function that takes a list of integers and returns a new list containing the squares of\n",
        "#      each number\n",
        "\n",
        "def square_list(l):\n",
        "  li = []\n",
        "  for i in l:\n",
        "    li.append(i*i)\n",
        "  return li\n",
        "list_int = list(map(int, input(\"Enter elements separated by commas: \").split(',')))\n",
        "result = square_list(list_int)\n",
        "print(result)"
      ],
      "metadata": {
        "colab": {
          "base_uri": "https://localhost:8080/"
        },
        "id": "nA2smLn1XgFD",
        "outputId": "def7e2c1-b098-4e61-b04b-2342bc37029e"
      },
      "execution_count": 10,
      "outputs": [
        {
          "output_type": "stream",
          "name": "stdout",
          "text": [
            "Enter elements separated by commas: 1,2,3,4,5\n",
            "[1, 4, 9, 16, 25]\n"
          ]
        }
      ]
    },
    {
      "cell_type": "code",
      "source": [
        "# 4.) Write a Python function that checks if a given number is prime or not from 1 to 200.\n",
        "def is_prime(n):\n",
        "    if n < 2:\n",
        "        return False\n",
        "    for i in range(2, int(n**0.5) + 1):\n",
        "        if n % i == 0:\n",
        "            return False\n",
        "    return True\n",
        "\n",
        "num = int(input(\"Enter a number (1-200): \"))\n",
        "if 1 <= num <= 200:\n",
        "    print(\"Prime\" if is_prime(num) else \"Not Prime\")\n",
        "else:\n",
        "    print(\"Number out of range.\")\n"
      ],
      "metadata": {
        "colab": {
          "base_uri": "https://localhost:8080/"
        },
        "id": "9aX7IHKHYvqH",
        "outputId": "700c0511-5f91-4303-a4a5-f46b60f91766"
      },
      "execution_count": 11,
      "outputs": [
        {
          "output_type": "stream",
          "name": "stdout",
          "text": [
            "Enter a number (1-200): 70\n",
            "Not Prime\n"
          ]
        }
      ]
    },
    {
      "cell_type": "code",
      "source": [
        "# 5.) Create an iterator class in Python that generates the Fibonacci sequence up to a specified number of\n",
        "#     terms.\n",
        "class Fibonacci:\n",
        "    def __init__(self, n):\n",
        "        self.n = n\n",
        "        self.count = 0\n",
        "        self.a, self.b = 0, 1\n",
        "\n",
        "    def __iter__(self):\n",
        "        return self\n",
        "\n",
        "    def __next__(self):\n",
        "        if self.count >= self.n:\n",
        "            raise StopIteration\n",
        "        if self.count == 0:\n",
        "            self.count += 1\n",
        "            return 0\n",
        "        elif self.count == 1:\n",
        "            self.count += 1\n",
        "            return 1\n",
        "        else:\n",
        "            self.a, self.b = self.b, self.a + self.b\n",
        "            self.count += 1\n",
        "            return self.b\n",
        "\n",
        "n = int(input(\"Enter number of Fibonacci terms: \"))\n",
        "fib = Fibonacci(n)\n",
        "for num in fib:\n",
        "    print(num, end=' ')\n"
      ],
      "metadata": {
        "colab": {
          "base_uri": "https://localhost:8080/"
        },
        "id": "LhX7tJA6Y_tA",
        "outputId": "bec23401-9adc-47d7-dd0b-326491057735"
      },
      "execution_count": 12,
      "outputs": [
        {
          "output_type": "stream",
          "name": "stdout",
          "text": [
            "Enter number of Fibonacci terms: 10\n",
            "0 1 1 2 3 5 8 13 21 34 "
          ]
        }
      ]
    },
    {
      "cell_type": "code",
      "source": [
        "# 6.)  Write a generator function in Python that yields the powers of 2 up to a given exponent.\n",
        "def powers_of_two(n):\n",
        "    for i in range(n + 1):\n",
        "        yield 2 ** i\n",
        "\n",
        "exp = int(input(\"Enter the maximum exponent: \"))\n",
        "for val in powers_of_two(exp):\n",
        "    print(val, end=' ')\n"
      ],
      "metadata": {
        "colab": {
          "base_uri": "https://localhost:8080/"
        },
        "id": "U7oXFx-XZPDZ",
        "outputId": "1b08125a-b4c7-4492-def5-1dd53545c30e"
      },
      "execution_count": 13,
      "outputs": [
        {
          "output_type": "stream",
          "name": "stdout",
          "text": [
            "Enter the maximum exponent: 3\n",
            "1 2 4 8 "
          ]
        }
      ]
    },
    {
      "cell_type": "code",
      "source": [
        "# 7.)  Implement a generator function that reads a file line by line and yields each line as a string.\n",
        "def read_file_line_by_line(filename):\n",
        "    with open(filename, 'r') as file:\n",
        "        for line in file:\n",
        "            yield line.strip()\n",
        "\n",
        "# Example usage:\n",
        "for line in read_file_line_by_line(\"sample.txt\"):\n",
        "    print(line)\n"
      ],
      "metadata": {
        "id": "atZT0MsVZd9K"
      },
      "execution_count": null,
      "outputs": []
    },
    {
      "cell_type": "code",
      "source": [
        "# 8.) . Use a lambda function in Python to sort a list of tuples based on the second element of each tuple\n",
        "tuples = [(1, 3), (4, 1), (2, 2)]\n",
        "sorted_tuples = sorted(tuples, key=lambda x: x[1])\n",
        "print(sorted_tuples)\n"
      ],
      "metadata": {
        "colab": {
          "base_uri": "https://localhost:8080/"
        },
        "id": "C549eBHoZ-VC",
        "outputId": "27fd89ba-1f43-4f05-d866-107dedd83271"
      },
      "execution_count": 14,
      "outputs": [
        {
          "output_type": "stream",
          "name": "stdout",
          "text": [
            "[(4, 1), (2, 2), (1, 3)]\n"
          ]
        }
      ]
    },
    {
      "cell_type": "code",
      "source": [
        "# 9.)  Write a Python program that uses `map()` to convert a list of temperatures from Celsius to Fahrenheit.\n",
        "celsius = [0, 20, 30, 40]\n",
        "fahrenheit = list(map(lambda c: (c * 9/5) + 32, celsius))\n",
        "print(fahrenheit)\n"
      ],
      "metadata": {
        "colab": {
          "base_uri": "https://localhost:8080/"
        },
        "id": "3Jj69vVkaTsm",
        "outputId": "bbb06bac-92dc-4c8b-87f7-760deea73053"
      },
      "execution_count": 15,
      "outputs": [
        {
          "output_type": "stream",
          "name": "stdout",
          "text": [
            "[32.0, 68.0, 86.0, 104.0]\n"
          ]
        }
      ]
    },
    {
      "cell_type": "code",
      "source": [
        "# 10.)  Create a Python program that uses `filter()` to remove all the vowels from a given string.\n",
        "s = \"Hello World\"\n",
        "no_vowels = ''.join(filter(lambda x: x.lower() not in 'aeiou', s))\n",
        "print(no_vowels)\n"
      ],
      "metadata": {
        "colab": {
          "base_uri": "https://localhost:8080/"
        },
        "id": "pQ6uJzBmafS2",
        "outputId": "d64b112a-f3b7-4e68-d4d5-9f1a7ad12493"
      },
      "execution_count": 16,
      "outputs": [
        {
          "output_type": "stream",
          "name": "stdout",
          "text": [
            "Hll Wrld\n"
          ]
        }
      ]
    },
    {
      "cell_type": "code",
      "source": [
        "# 11.\n",
        "orders = [\n",
        "    [34587, \"Learning Python, Mark Lutz\", 4, 40.95],\n",
        "    [98762, \"Programming Python, Mark Lutz\", 5, 56.80],\n",
        "    [77226, \"Head First Python, Paul Barry\", 3, 32.95],\n",
        "    [88112, \"Einführung in Python3, Bernd Klein\", 3, 24.99]\n",
        "]\n",
        "\n",
        "result = list(map(lambda order:\n",
        "    (order[0], order[2]*order[3] + (10 if order[2]*order[3] < 100 else 0)),\n",
        "    orders))\n",
        "\n",
        "print(result)\n"
      ],
      "metadata": {
        "colab": {
          "base_uri": "https://localhost:8080/"
        },
        "id": "mglznQCWaplD",
        "outputId": "913c97b3-894f-4cc0-f557-01f4e2aa032b"
      },
      "execution_count": 17,
      "outputs": [
        {
          "output_type": "stream",
          "name": "stdout",
          "text": [
            "[(34587, 163.8), (98762, 284.0), (77226, 108.85000000000001), (88112, 84.97)]\n"
          ]
        }
      ]
    }
  ]
}